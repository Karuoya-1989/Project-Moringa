{
 "cells": [
  {
   "cell_type": "code",
   "execution_count": 1,
   "metadata": {
    "tags": []
   },
   "outputs": [
    {
     "name": "stdout",
     "output_type": "stream",
     "text": [
      "Karuoya Come take a Chill Pill, you deserve it\n",
      "\n",
      "OPTIONS:\n",
      "1. Add dosage time\n",
      "2. Mark dosage received\n",
      "3. List dosage times\n",
      "4. Remove dosage time\n",
      "5. Quit\n"
     ]
    },
    {
     "name": "stdin",
     "output_type": "stream",
     "text": [
      "Enter your choice:  3\n"
     ]
    },
    {
     "name": "stdout",
     "output_type": "stream",
     "text": [
      "Dosage times:\n",
      "\n",
      "OPTIONS:\n",
      "1. Add dosage time\n",
      "2. Mark dosage received\n",
      "3. List dosage times\n",
      "4. Remove dosage time\n",
      "5. Quit\n"
     ]
    },
    {
     "name": "stdin",
     "output_type": "stream",
     "text": [
      "Enter your choice:  1\n",
      "Enter dosage time:  6am\n"
     ]
    },
    {
     "name": "stdout",
     "output_type": "stream",
     "text": [
      "Dosage time added!\n",
      "\n",
      "OPTIONS:\n",
      "1. Add dosage time\n",
      "2. Mark dosage received\n",
      "3. List dosage times\n",
      "4. Remove dosage time\n",
      "5. Quit\n"
     ]
    },
    {
     "name": "stdin",
     "output_type": "stream",
     "text": [
      "Enter your choice:  1\n",
      "Enter dosage time:  12pm\n"
     ]
    },
    {
     "name": "stdout",
     "output_type": "stream",
     "text": [
      "Dosage time added!\n",
      "\n",
      "OPTIONS:\n",
      "1. Add dosage time\n",
      "2. Mark dosage received\n",
      "3. List dosage times\n",
      "4. Remove dosage time\n",
      "5. Quit\n"
     ]
    },
    {
     "name": "stdin",
     "output_type": "stream",
     "text": [
      "Enter your choice:  1\n",
      "Enter dosage time:  6pm\n"
     ]
    },
    {
     "name": "stdout",
     "output_type": "stream",
     "text": [
      "Dosage time added!\n",
      "\n",
      "OPTIONS:\n",
      "1. Add dosage time\n",
      "2. Mark dosage received\n",
      "3. List dosage times\n",
      "4. Remove dosage time\n",
      "5. Quit\n"
     ]
    },
    {
     "name": "stdin",
     "output_type": "stream",
     "text": [
      "Enter your choice:  1\n",
      "Enter dosage time:  12am\n"
     ]
    },
    {
     "name": "stdout",
     "output_type": "stream",
     "text": [
      "Dosage time added!\n",
      "\n",
      "OPTIONS:\n",
      "1. Add dosage time\n",
      "2. Mark dosage received\n",
      "3. List dosage times\n",
      "4. Remove dosage time\n",
      "5. Quit\n"
     ]
    },
    {
     "name": "stdin",
     "output_type": "stream",
     "text": [
      "Enter your choice:  3\n"
     ]
    },
    {
     "name": "stdout",
     "output_type": "stream",
     "text": [
      "Dosage times:\n",
      "1. 6am - Not received\n",
      "2. 12pm - Not received\n",
      "3. 6pm - Not received\n",
      "4. 12am - Not received\n",
      "\n",
      "OPTIONS:\n",
      "1. Add dosage time\n",
      "2. Mark dosage received\n",
      "3. List dosage times\n",
      "4. Remove dosage time\n",
      "5. Quit\n"
     ]
    },
    {
     "name": "stdin",
     "output_type": "stream",
     "text": [
      "Enter your choice:  2\n"
     ]
    },
    {
     "name": "stdout",
     "output_type": "stream",
     "text": [
      "Dosage times:\n",
      "1. 6am - Not received\n",
      "2. 12pm - Not received\n",
      "3. 6pm - Not received\n",
      "4. 12am - Not received\n"
     ]
    },
    {
     "name": "stdin",
     "output_type": "stream",
     "text": [
      "Enter the index of the dosage to mark as received:  1\n"
     ]
    },
    {
     "name": "stdout",
     "output_type": "stream",
     "text": [
      "Dosage marked as received!\n",
      "\n",
      "OPTIONS:\n",
      "1. Add dosage time\n",
      "2. Mark dosage received\n",
      "3. List dosage times\n",
      "4. Remove dosage time\n",
      "5. Quit\n"
     ]
    },
    {
     "name": "stdin",
     "output_type": "stream",
     "text": [
      "Enter your choice:  2\n"
     ]
    },
    {
     "name": "stdout",
     "output_type": "stream",
     "text": [
      "Dosage times:\n",
      "1. 6am - Received\n",
      "2. 12pm - Not received\n",
      "3. 6pm - Not received\n",
      "4. 12am - Not received\n"
     ]
    },
    {
     "name": "stdin",
     "output_type": "stream",
     "text": [
      "Enter the index of the dosage to mark as received:  2\n"
     ]
    },
    {
     "name": "stdout",
     "output_type": "stream",
     "text": [
      "Dosage marked as received!\n",
      "\n",
      "OPTIONS:\n",
      "1. Add dosage time\n",
      "2. Mark dosage received\n",
      "3. List dosage times\n",
      "4. Remove dosage time\n",
      "5. Quit\n"
     ]
    },
    {
     "name": "stdin",
     "output_type": "stream",
     "text": [
      "Enter your choice:  3\n"
     ]
    },
    {
     "name": "stdout",
     "output_type": "stream",
     "text": [
      "Dosage times:\n",
      "1. 6am - Received\n",
      "2. 12pm - Received\n",
      "3. 6pm - Not received\n",
      "4. 12am - Not received\n",
      "\n",
      "OPTIONS:\n",
      "1. Add dosage time\n",
      "2. Mark dosage received\n",
      "3. List dosage times\n",
      "4. Remove dosage time\n",
      "5. Quit\n"
     ]
    },
    {
     "name": "stdin",
     "output_type": "stream",
     "text": [
      "Enter your choice:  4\n"
     ]
    },
    {
     "name": "stdout",
     "output_type": "stream",
     "text": [
      "Dosage times:\n",
      "1. 6am\n",
      "2. 12pm\n",
      "3. 6pm\n",
      "4. 12am\n"
     ]
    },
    {
     "name": "stdin",
     "output_type": "stream",
     "text": [
      "Enter the index of the dosage to remove:  4\n"
     ]
    },
    {
     "name": "stdout",
     "output_type": "stream",
     "text": [
      "Dosage time '12am' removed!\n",
      "\n",
      "OPTIONS:\n",
      "1. Add dosage time\n",
      "2. Mark dosage received\n",
      "3. List dosage times\n",
      "4. Remove dosage time\n",
      "5. Quit\n"
     ]
    },
    {
     "name": "stdin",
     "output_type": "stream",
     "text": [
      "Enter your choice:  5\n"
     ]
    },
    {
     "name": "stdout",
     "output_type": "stream",
     "text": [
      "Bravo Peddy!\n"
     ]
    }
   ],
   "source": [
    "# Initialize an empty list to store dosage times and their completion status\n",
    "dosage_times = []\n",
    "\n",
    "# Function to display the available options to the user\n",
    "def display_options():\n",
    "    print(\"\\nOPTIONS:\")\n",
    "    print(\"1. Add dosage time\")\n",
    "    print(\"2. Mark dosage received\")\n",
    "    print(\"3. List dosage times\")\n",
    "    print(\"4. Remove dosage time\")\n",
    "    print(\"5. Quit\")\n",
    "\n",
    "# Function to add a new dosage time to the list\n",
    "def add_dosage_time():\n",
    "    time = input(\"Enter dosage time: \")\n",
    "    dosage_times.append({\"time\": time, \"completed\": False})\n",
    "    print(\"Dosage time added!\")\n",
    "\n",
    "# Function to mark a dosage time as received\n",
    "def mark_dosage_received():\n",
    "    print(\"Dosage times:\")\n",
    "    for index, dosage in enumerate(dosage_times, start=1):\n",
    "        print(f\"{index}. {dosage['time']} - {'Received' if dosage['completed'] else 'Not received'}\")\n",
    "\n",
    "    index = int(input(\"Enter the index of the dosage to mark as received: \")) - 1\n",
    "    if 0 <= index < len(dosage_times):\n",
    "        dosage_times[index]['completed'] = True\n",
    "        print(\"Dosage marked as received!\")\n",
    "    else:\n",
    "        print(\"Invalid index.\")\n",
    "\n",
    "# Function to list all dosage times and their completion status\n",
    "def list_dosage_times():\n",
    "    print(\"Dosage times:\")\n",
    "    for index, dosage in enumerate(dosage_times, start=1):\n",
    "        print(f\"{index}. {dosage['time']} - {'Received' if dosage['completed'] else 'Not received'}\")\n",
    "\n",
    "# Function to remove a dosage time from the list\n",
    "def remove_dosage_time():\n",
    "    print(\"Dosage times:\")\n",
    "    for index, dosage in enumerate(dosage_times, start=1):\n",
    "        print(f\"{index}. {dosage['time']}\")\n",
    "\n",
    "    index = int(input(\"Enter the index of the dosage to remove: \")) - 1\n",
    "    if 0 <= index < len(dosage_times):\n",
    "        removed_time = dosage_times.pop(index)\n",
    "        print(f\"Dosage time '{removed_time['time']}' removed!\")\n",
    "    else:\n",
    "        print(\"Invalid index.\")\n",
    "\n",
    "# Main function to drive the program\n",
    "def main():\n",
    "    opening_statement = \"Karuoya Come take a Chill Pill, you deserve it\"\n",
    "    print(opening_statement)\n",
    "\n",
    "    while True:\n",
    "        display_options()\n",
    "        choice = input(\"Enter your choice: \")\n",
    "\n",
    "        if choice == \"1\":\n",
    "            add_dosage_time()\n",
    "        elif choice == \"2\":\n",
    "            mark_dosage_received()\n",
    "        elif choice == \"3\":\n",
    "            list_dosage_times()\n",
    "        elif choice == \"4\":\n",
    "            remove_dosage_time()\n",
    "        elif choice == \"5\":\n",
    "            print(\"Bravo Peddy!\")\n",
    "            break\n",
    "        else:\n",
    "            print(\"Invalid choice. Please choose a valid option.\")\n",
    "\n",
    "# Run the program if this script is executed directly\n",
    "if __name__ == \"__main__\":\n",
    "    main()\n"
   ]
  },
  {
   "cell_type": "code",
   "execution_count": null,
   "metadata": {},
   "outputs": [],
   "source": []
  }
 ],
 "metadata": {
  "kernelspec": {
   "display_name": "Python 3 (ipykernel)",
   "language": "python",
   "name": "python3"
  },
  "language_info": {
   "codemirror_mode": {
    "name": "ipython",
    "version": 3
   },
   "file_extension": ".py",
   "mimetype": "text/x-python",
   "name": "python",
   "nbconvert_exporter": "python",
   "pygments_lexer": "ipython3",
   "version": "3.11.3"
  }
 },
 "nbformat": 4,
 "nbformat_minor": 4
}
